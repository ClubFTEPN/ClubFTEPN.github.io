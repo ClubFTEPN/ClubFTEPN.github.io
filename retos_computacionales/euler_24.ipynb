{
  "nbformat": 4,
  "nbformat_minor": 0,
  "metadata": {
    "colab": {
      "provenance": [],
      "collapsed_sections": [],
      "include_colab_link": true
    },
    "kernelspec": {
      "name": "python3",
      "display_name": "Python 3"
    },
    "language_info": {
      "name": "python"
    }
  },
  "cells": [
    {
      "cell_type": "markdown",
      "metadata": {
        "id": "view-in-github",
        "colab_type": "text"
      },
      "source": [
        "<a href=\"https://colab.research.google.com/github/ClubFTEPN/ClubFTEPN.github.io/blob/main/retos_computacionales/euler_24.ipynb\" target=\"_parent\"><img src=\"https://colab.research.google.com/assets/colab-badge.svg\" alt=\"Open In Colab\"/></a>"
      ]
    },
    {
      "cell_type": "markdown",
      "source": [
        "#Lexicographic permutations\n",
        "**Problem 24**\n",
        "\n",
        "A permutation is an ordered arrangement of objects. For example, $3124$ is one possible permutation of the digits $1, 2, 3$ and $4$. If all of the permutations are listed numerically or alphabetically, we call it lexicographic order. The lexicographic permutations of $0, 1$ and $2$ are:\n",
        "\n",
        "$$012\\;\\;021\\;\\;102\\;\\;120\\;\\;201\\;\\;210$$\n",
        "\n",
        "What is the millionth lexicographic permutation of the digits $0, 1, 2, 3, 4, 5, 6, 7, 8$ and $9$?"
      ],
      "metadata": {
        "id": "yuXDkjmqsI8F"
      }
    },
    {
      "cell_type": "code",
      "execution_count": null,
      "metadata": {
        "id": "Jlq73ZdXsErb"
      },
      "outputs": [],
      "source": []
    }
  ]
}